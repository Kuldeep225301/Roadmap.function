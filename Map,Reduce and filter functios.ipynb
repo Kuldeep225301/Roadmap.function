{
 "cells": [
  {
   "cell_type": "code",
   "execution_count": 23,
   "id": "7eb26a82-07c9-47a5-b797-8b6287d4bf93",
   "metadata": {},
   "outputs": [],
   "source": [
    "l = [2,3,4,5,6]"
   ]
  },
  {
   "cell_type": "code",
   "execution_count": 24,
   "id": "a2edf791-2721-4365-94fe-3764acf7e468",
   "metadata": {
    "tags": []
   },
   "outputs": [],
   "source": [
    "def test(l):\n",
    "    l1 =[]\n",
    "    for i in l:\n",
    "        l1.append(i**2)\n",
    "    return l1"
   ]
  },
  {
   "cell_type": "code",
   "execution_count": 25,
   "id": "725aa5b2-748d-469c-b4b0-4b1eee5ba2bc",
   "metadata": {
    "tags": []
   },
   "outputs": [
    {
     "data": {
      "text/plain": [
       "[4, 9, 16, 25, 36]"
      ]
     },
     "execution_count": 25,
     "metadata": {},
     "output_type": "execute_result"
    }
   ],
   "source": [
    "test(l)"
   ]
  },
  {
   "cell_type": "code",
   "execution_count": 26,
   "id": "a7db5395-6ee1-471d-979b-a3eda63ecf06",
   "metadata": {
    "tags": []
   },
   "outputs": [],
   "source": [
    "def sq(x):\n",
    "    return x**2\n",
    "    "
   ]
  },
  {
   "cell_type": "code",
   "execution_count": 27,
   "id": "f08b3080-fcca-43fd-a0a8-4c5025f1023e",
   "metadata": {
    "tags": []
   },
   "outputs": [
    {
     "data": {
      "text/plain": [
       "[4, 9, 16, 25, 36]"
      ]
     },
     "execution_count": 27,
     "metadata": {},
     "output_type": "execute_result"
    }
   ],
   "source": [
    "list(map(sq, l))"
   ]
  },
  {
   "cell_type": "markdown",
   "id": "d320d946-8398-4207-861b-7d27455ecbfa",
   "metadata": {},
   "source": [
    "using lambda"
   ]
  },
  {
   "cell_type": "code",
   "execution_count": 28,
   "id": "7fc59a09-c39f-4501-b2b4-98fc3ab73b89",
   "metadata": {
    "tags": []
   },
   "outputs": [
    {
     "data": {
      "text/plain": [
       "[4, 9, 16, 25, 36]"
      ]
     },
     "execution_count": 28,
     "metadata": {},
     "output_type": "execute_result"
    }
   ],
   "source": [
    "list(map(lambda x : x**2, l))"
   ]
  },
  {
   "cell_type": "markdown",
   "id": "0ebcc7f6-9abf-4ef1-9c71-158b72d9239c",
   "metadata": {},
   "source": [
    "Add two number"
   ]
  },
  {
   "cell_type": "code",
   "execution_count": 32,
   "id": "d53ddfc9-06fe-4a37-8b5d-6a5e99ceb170",
   "metadata": {
    "tags": []
   },
   "outputs": [
    {
     "data": {
      "text/plain": [
       "[9, 11, 13, 9]"
      ]
     },
     "execution_count": 32,
     "metadata": {},
     "output_type": "execute_result"
    }
   ],
   "source": [
    "l1 = [2,3,4,5]\n",
    "l2 = [7,8,9,4]\n",
    "\n",
    "list(map(lambda x,y : x+y, l1 ,l2))"
   ]
  },
  {
   "cell_type": "code",
   "execution_count": 34,
   "id": "94bb8aca-782f-4c37-b21a-920fd1487213",
   "metadata": {
    "tags": []
   },
   "outputs": [
    {
     "data": {
      "text/plain": [
       "[5, 5, 5, -1]"
      ]
     },
     "execution_count": 34,
     "metadata": {},
     "output_type": "execute_result"
    }
   ],
   "source": [
    "l1 = [7,8,9,4]\n",
    "l2 = [2,3,4,5]\n",
    "list(map(lambda x,y : x-y, l1,l2))\n",
    "    "
   ]
  },
  {
   "cell_type": "code",
   "execution_count": 35,
   "id": "9108f932-1119-4651-b91e-555c6afd7a28",
   "metadata": {
    "tags": []
   },
   "outputs": [],
   "source": [
    "def add(x,y):\n",
    "    return x+y"
   ]
  },
  {
   "cell_type": "code",
   "execution_count": 36,
   "id": "5ba1a4ff-a3d0-462a-bc39-8910d0af08a5",
   "metadata": {
    "tags": []
   },
   "outputs": [
    {
     "data": {
      "text/plain": [
       "17"
      ]
     },
     "execution_count": 36,
     "metadata": {},
     "output_type": "execute_result"
    }
   ],
   "source": [
    "add(8,9)"
   ]
  },
  {
   "cell_type": "code",
   "execution_count": 37,
   "id": "869e7808-9cdd-43bb-9ac1-2bb31905152b",
   "metadata": {
    "tags": []
   },
   "outputs": [],
   "source": [
    "l1 = [7,8,9,4]\n",
    "l2 = [2,3,4,5]"
   ]
  },
  {
   "cell_type": "code",
   "execution_count": 38,
   "id": "f7aa6b3c-5551-4dff-9a5d-a07227e17080",
   "metadata": {
    "tags": []
   },
   "outputs": [],
   "source": [
    "def add(x,y):\n",
    "    return x+y"
   ]
  },
  {
   "cell_type": "code",
   "execution_count": 39,
   "id": "f2758d24-ee3a-4a9a-ada0-5da741bff5f3",
   "metadata": {
    "tags": []
   },
   "outputs": [
    {
     "data": {
      "text/plain": [
       "[9, 11, 13, 9]"
      ]
     },
     "execution_count": 39,
     "metadata": {},
     "output_type": "execute_result"
    }
   ],
   "source": [
    "list(map(add, l1, l2))"
   ]
  },
  {
   "cell_type": "markdown",
   "id": "a955d9bb-2af2-4aae-b034-741da6db2de9",
   "metadata": {},
   "source": [
    "given string convert to upper case :"
   ]
  },
  {
   "cell_type": "code",
   "execution_count": 42,
   "id": "d7c0e7af-f8b5-4b7c-90b1-b622e9450503",
   "metadata": {
    "tags": []
   },
   "outputs": [
    {
     "data": {
      "text/plain": [
       "['K', 'U', 'L', 'D', 'E', 'E', 'P']"
      ]
     },
     "execution_count": 42,
     "metadata": {},
     "output_type": "execute_result"
    }
   ],
   "source": [
    "s =\"kuldeep\"\n",
    "list(map(lambda s : s.upper() , s))"
   ]
  },
  {
   "cell_type": "code",
   "execution_count": 43,
   "id": "f7ad039d-c02f-460d-b4d3-7d9424cf3c25",
   "metadata": {
    "tags": []
   },
   "outputs": [],
   "source": [
    "from functools import reduce"
   ]
  },
  {
   "cell_type": "code",
   "execution_count": 44,
   "id": "9cbc9679-582f-43f1-b9ff-fa2918308d3e",
   "metadata": {
    "tags": []
   },
   "outputs": [],
   "source": [
    "l1 = [3,4,5,6,7,8]"
   ]
  },
  {
   "cell_type": "code",
   "execution_count": 45,
   "id": "d3a44249-eab8-43ec-97c0-6fbd9720aef1",
   "metadata": {
    "tags": []
   },
   "outputs": [
    {
     "data": {
      "text/plain": [
       "20"
      ]
     },
     "execution_count": 45,
     "metadata": {},
     "output_type": "execute_result"
    }
   ],
   "source": [
    "reduce(lambda x,y : x+y , l)"
   ]
  },
  {
   "cell_type": "code",
   "execution_count": 46,
   "id": "5e8b772c-09a2-498a-973a-7e894435745e",
   "metadata": {
    "tags": []
   },
   "outputs": [],
   "source": [
    "l1 = [3,4,5,6,7,8]"
   ]
  },
  {
   "cell_type": "code",
   "execution_count": 49,
   "id": "75d75646-9994-4199-bc3c-0f220a6d270e",
   "metadata": {
    "tags": []
   },
   "outputs": [
    {
     "data": {
      "text/plain": [
       "720"
      ]
     },
     "execution_count": 49,
     "metadata": {},
     "output_type": "execute_result"
    }
   ],
   "source": [
    "reduce(lambda x,y : x*y,l)"
   ]
  },
  {
   "cell_type": "code",
   "execution_count": 50,
   "id": "58cff6b4-35c1-414f-8b56-d7a5686b2626",
   "metadata": {
    "tags": []
   },
   "outputs": [
    {
     "data": {
      "text/plain": [
       "[2, 3, 4, 5, 6]"
      ]
     },
     "execution_count": 50,
     "metadata": {},
     "output_type": "execute_result"
    }
   ],
   "source": [
    " l"
   ]
  },
  {
   "cell_type": "code",
   "execution_count": 51,
   "id": "e21f8cd9-8dc8-4e30-8eed-bf5076698c0a",
   "metadata": {
    "tags": []
   },
   "outputs": [
    {
     "data": {
      "text/plain": [
       "6"
      ]
     },
     "execution_count": 51,
     "metadata": {},
     "output_type": "execute_result"
    }
   ],
   "source": [
    "reduce(lambda x,y: x if x>y else y,l)"
   ]
  },
  {
   "cell_type": "code",
   "execution_count": 52,
   "id": "d2abdd9c-8118-4f78-8ff5-1c5babe61937",
   "metadata": {
    "tags": []
   },
   "outputs": [],
   "source": [
    "l = [90,78,56,23,45,89]"
   ]
  },
  {
   "cell_type": "code",
   "execution_count": 53,
   "id": "f8d7de08-18cb-46ab-af9a-b8e3f534cf15",
   "metadata": {
    "tags": []
   },
   "outputs": [
    {
     "data": {
      "text/plain": [
       "90"
      ]
     },
     "execution_count": 53,
     "metadata": {},
     "output_type": "execute_result"
    }
   ],
   "source": [
    "reduce(lambda x,y : x if x>y else y, l)"
   ]
  },
  {
   "cell_type": "markdown",
   "id": "047d5e5c-565d-4d55-8429-3b63bbc609e8",
   "metadata": {},
   "source": [
    "find the even number "
   ]
  },
  {
   "cell_type": "code",
   "execution_count": 56,
   "id": "6b7b2b35-1235-40fc-8926-76f231908be0",
   "metadata": {
    "tags": []
   },
   "outputs": [],
   "source": [
    "l = [1,2,3,4,5,8,7,6]"
   ]
  },
  {
   "cell_type": "code",
   "execution_count": 64,
   "id": "41fb3dca-4825-43b3-8b00-d6bb85a29bb4",
   "metadata": {
    "tags": []
   },
   "outputs": [
    {
     "data": {
      "text/plain": [
       "[2, 4, 8, 6]"
      ]
     },
     "execution_count": 64,
     "metadata": {},
     "output_type": "execute_result"
    }
   ],
   "source": [
    "list(filter(lambda x : x%2==0,l))"
   ]
  },
  {
   "cell_type": "code",
   "execution_count": 65,
   "id": "063ba4a2-024d-49e4-8759-88bd6332fd06",
   "metadata": {
    "tags": []
   },
   "outputs": [],
   "source": [
    "l = [1,2,3,4,5,8,7,6]"
   ]
  },
  {
   "cell_type": "code",
   "execution_count": 68,
   "id": "6cdacd58-d6f1-404e-9743-f77f43a1853f",
   "metadata": {
    "tags": []
   },
   "outputs": [
    {
     "data": {
      "text/plain": [
       "[1, 3, 5, 7]"
      ]
     },
     "execution_count": 68,
     "metadata": {},
     "output_type": "execute_result"
    }
   ],
   "source": [
    "list(filter(lambda x : x%2 != 0, l))"
   ]
  },
  {
   "cell_type": "code",
   "execution_count": 2,
   "id": "8cb704ca-c249-418a-905c-cad727ac375e",
   "metadata": {
    "tags": []
   },
   "outputs": [],
   "source": [
    "l1 = [-3,4,-5,-8,9,6]"
   ]
  },
  {
   "cell_type": "code",
   "execution_count": 3,
   "id": "6a5ce0bc-68b6-4522-8ddd-ba2beb93b13d",
   "metadata": {
    "tags": []
   },
   "outputs": [
    {
     "data": {
      "text/plain": [
       "[4, 9, 6]"
      ]
     },
     "execution_count": 3,
     "metadata": {},
     "output_type": "execute_result"
    }
   ],
   "source": [
    "list(filter(lambda x : x>0, l1))"
   ]
  },
  {
   "cell_type": "code",
   "execution_count": 4,
   "id": "9add8f72-5d90-40ec-9613-ffa2d49ea486",
   "metadata": {
    "tags": []
   },
   "outputs": [
    {
     "data": {
      "text/plain": [
       "[-3, -5, -8]"
      ]
     },
     "execution_count": 4,
     "metadata": {},
     "output_type": "execute_result"
    }
   ],
   "source": [
    "list(filter(lambda x : x<0,l1))"
   ]
  },
  {
   "cell_type": "code",
   "execution_count": 5,
   "id": "173b157b-dba7-4244-872d-9c52407e3780",
   "metadata": {
    "tags": []
   },
   "outputs": [],
   "source": [
    "l2 = [\"kuldeep\", \"PW skills\",\"Abhay\",\"Anil\"]"
   ]
  },
  {
   "cell_type": "code",
   "execution_count": 6,
   "id": "81de48ac-4de3-405f-9007-33dfb24ab5e9",
   "metadata": {
    "tags": []
   },
   "outputs": [
    {
     "data": {
      "text/plain": [
       "['Abhay', 'Anil']"
      ]
     },
     "execution_count": 6,
     "metadata": {},
     "output_type": "execute_result"
    }
   ],
   "source": [
    " list(filter(lambda x : len(x)<6 , l2))"
   ]
  },
  {
   "cell_type": "code",
   "execution_count": null,
   "id": "dc0b0815-fbab-465d-ae9a-b6c75d4ab02e",
   "metadata": {},
   "outputs": [],
   "source": []
  }
 ],
 "metadata": {
  "kernelspec": {
   "display_name": "Python 3 (ipykernel)",
   "language": "python",
   "name": "python3"
  },
  "language_info": {
   "codemirror_mode": {
    "name": "ipython",
    "version": 3
   },
   "file_extension": ".py",
   "mimetype": "text/x-python",
   "name": "python",
   "nbconvert_exporter": "python",
   "pygments_lexer": "ipython3",
   "version": "3.11.5"
  }
 },
 "nbformat": 4,
 "nbformat_minor": 5
}
